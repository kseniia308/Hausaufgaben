{
  "cells": [
    {
      "cell_type": "markdown",
      "metadata": {
        "id": "view-in-github",
        "colab_type": "text"
      },
      "source": [
        "<a href=\"https://colab.research.google.com/github/kseniia308/Hausaufgaben/blob/task2/task2.ipynb\" target=\"_parent\"><img src=\"https://colab.research.google.com/assets/colab-badge.svg\" alt=\"Open In Colab\"/></a>"
      ]
    },
    {
      "cell_type": "code",
      "execution_count": null,
      "metadata": {
        "id": "Hg6NcAhx_oyi"
      },
      "outputs": [],
      "source": [
        "import numpy as np"
      ]
    },
    {
      "cell_type": "markdown",
      "metadata": {
        "id": "bixwdaVT_xNz"
      },
      "source": [
        "Создайте массив 10х10, заполненный в центре нулями, а по границе единицами."
      ]
    },
    {
      "cell_type": "code",
      "execution_count": null,
      "metadata": {
        "colab": {
          "base_uri": "https://localhost:8080/"
        },
        "id": "s15YZILk_zHw",
        "outputId": "bdf83926-caa2-49e2-ff62-0b3cc3d59587"
      },
      "outputs": [
        {
          "data": {
            "text/plain": [
              "array([[1., 1., 1., 1., 1., 1., 1., 1., 1., 1.],\n",
              "       [1., 0., 0., 0., 0., 0., 0., 0., 0., 1.],\n",
              "       [1., 0., 0., 0., 0., 0., 0., 0., 0., 1.],\n",
              "       [1., 0., 0., 0., 0., 0., 0., 0., 0., 1.],\n",
              "       [1., 0., 0., 0., 0., 0., 0., 0., 0., 1.],\n",
              "       [1., 0., 0., 0., 0., 0., 0., 0., 0., 1.],\n",
              "       [1., 0., 0., 0., 0., 0., 0., 0., 0., 1.],\n",
              "       [1., 0., 0., 0., 0., 0., 0., 0., 0., 1.],\n",
              "       [1., 0., 0., 0., 0., 0., 0., 0., 0., 1.],\n",
              "       [1., 1., 1., 1., 1., 1., 1., 1., 1., 1.]])"
            ]
          },
          "execution_count": 8,
          "metadata": {},
          "output_type": "execute_result"
        }
      ],
      "source": [
        "np.pad(np.zeros((8, 8)), pad_width = 1, constant_values = 1)"
      ]
    },
    {
      "cell_type": "markdown",
      "metadata": {
        "id": "hWBXTb43B7Vk"
      },
      "source": [
        "Создайте массив 8х8, заполненный 0 и 1 в шахматном порядке."
      ]
    },
    {
      "cell_type": "code",
      "execution_count": null,
      "metadata": {
        "colab": {
          "base_uri": "https://localhost:8080/"
        },
        "id": "Bt7hz16CAAnw",
        "outputId": "42d07be5-d37b-4106-cf34-4abc664be320"
      },
      "outputs": [
        {
          "data": {
            "text/plain": [
              "array([[0, 1, 0, 1, 0, 1, 0, 1],\n",
              "       [1, 0, 1, 0, 1, 0, 1, 0],\n",
              "       [0, 1, 0, 1, 0, 1, 0, 1],\n",
              "       [1, 0, 1, 0, 1, 0, 1, 0],\n",
              "       [0, 1, 0, 1, 0, 1, 0, 1],\n",
              "       [1, 0, 1, 0, 1, 0, 1, 0],\n",
              "       [0, 1, 0, 1, 0, 1, 0, 1],\n",
              "       [1, 0, 1, 0, 1, 0, 1, 0]])"
            ]
          },
          "execution_count": 16,
          "metadata": {},
          "output_type": "execute_result"
        }
      ],
      "source": [
        "np.tile( np.array([[0,1], [1,0]]), (4,4))"
      ]
    },
    {
      "cell_type": "markdown",
      "metadata": {
        "id": "vmHu0wviEiee"
      },
      "source": [
        "Создайте матрицу 5x5 со значениями 1,2,3,4 под главной диагональю. Остальные значения - нули"
      ]
    },
    {
      "cell_type": "code",
      "execution_count": null,
      "metadata": {
        "colab": {
          "base_uri": "https://localhost:8080/"
        },
        "id": "d9TQ3ls7Fxn1",
        "outputId": "1bd83bd3-dd50-455b-b666-5d687710dad8"
      },
      "outputs": [
        {
          "data": {
            "text/plain": [
              "array([[0, 0, 0, 0, 0],\n",
              "       [1, 0, 0, 0, 0],\n",
              "       [0, 2, 0, 0, 0],\n",
              "       [0, 0, 3, 0, 0],\n",
              "       [0, 0, 0, 4, 0]])"
            ]
          },
          "execution_count": 11,
          "metadata": {},
          "output_type": "execute_result"
        }
      ],
      "source": [
        "np.diag([1, 2, 3, 4], -1)"
      ]
    },
    {
      "cell_type": "markdown",
      "metadata": {
        "id": "2mDQ1rVqF9DD"
      },
      "source": [
        "Создайте случайный массив 5х5 и нормируйте его так, чтобы среднее по каждой строке было в точности ноль."
      ]
    },
    {
      "cell_type": "code",
      "source": [
        "arr = np.random.random((5, 5))\n",
        "arr - np.reshape(np.mean(arr, 1), (5, 1))\n"
      ],
      "metadata": {
        "colab": {
          "base_uri": "https://localhost:8080/"
        },
        "id": "3rLZ1tX5vd4t",
        "outputId": "95598dae-62cc-43a5-b2e2-7ace2aea17ca"
      },
      "execution_count": null,
      "outputs": [
        {
          "output_type": "execute_result",
          "data": {
            "text/plain": [
              "array([[-0.13434146,  0.00573625,  0.1273978 ,  0.17090748, -0.16970007],\n",
              "       [ 0.2293787 ,  0.17467839, -0.20876007, -0.46215761,  0.26686059],\n",
              "       [ 0.35647682,  0.45021897, -0.47672775,  0.20626166, -0.53622968],\n",
              "       [-0.36123644,  0.40268719,  0.00901017, -0.09690721,  0.04644629],\n",
              "       [ 0.09200052,  0.03996677, -0.14502049, -0.28825636,  0.30130956]])"
            ]
          },
          "metadata": {},
          "execution_count": 10
        }
      ]
    },
    {
      "cell_type": "markdown",
      "metadata": {
        "id": "l4MwRn0uIjFF"
      },
      "source": [
        "Создайте двумерный массив 10x3, заполненный случайными числами от 0 до 1. В каждой строке выберите значение, наиболее близкое к 0.5."
      ]
    },
    {
      "cell_type": "code",
      "execution_count": null,
      "metadata": {
        "colab": {
          "base_uri": "https://localhost:8080/"
        },
        "id": "T2yA0qB8hFLU",
        "outputId": "5f12452b-5adc-49f4-84da-bb25f0b71b9c"
      },
      "outputs": [
        {
          "output_type": "execute_result",
          "data": {
            "text/plain": [
              "array([0.30606362, 0.70976738, 0.50489298, 0.47237286, 0.36604341,\n",
              "       0.7222632 , 0.44195538, 0.48312436, 0.55132594, 0.54115638])"
            ]
          },
          "metadata": {},
          "execution_count": 17
        }
      ],
      "source": [
        "arr = np.random.rand(10, 3)\n",
        "np.choose(np.argmin(abs(arr - 0.5), 1), arr.T)"
      ]
    },
    {
      "cell_type": "markdown",
      "metadata": {
        "id": "GI9ga9pQhg6o"
      },
      "source": [
        "Создайте двумерный массив 6x6, заполненный случайными значениями. Сумму по каждой строке поделите на максимальный элемент из столбца с тем же индексом."
      ]
    },
    {
      "cell_type": "code",
      "execution_count": null,
      "metadata": {
        "colab": {
          "base_uri": "https://localhost:8080/"
        },
        "id": "Rp9y8jI1tekg",
        "outputId": "241b1d32-65f1-476e-d407-02ef5ded5826"
      },
      "outputs": [
        {
          "data": {
            "text/plain": [
              "array([2.45679308, 4.03631921, 5.95826967, 2.66459496, 3.09072326,\n",
              "       2.06646255])"
            ]
          },
          "execution_count": 18,
          "metadata": {},
          "output_type": "execute_result"
        }
      ],
      "source": [
        "arr = np.random.rand(6, 6)\n",
        "np.sum(arr, axis = 1)/np.choose(np.argmax(arr, 0), arr)"
      ]
    },
    {
      "cell_type": "markdown",
      "metadata": {
        "id": "ucBebD5ivgOY"
      },
      "source": [
        "На примере массива x = np.array([6, 2, 0, 3, 0, 0, 5, 7, 0]) найдите максимальный элемент в массиве среди элементов, перед которыми стоит ноль."
      ]
    },
    {
      "cell_type": "code",
      "execution_count": null,
      "metadata": {
        "colab": {
          "base_uri": "https://localhost:8080/"
        },
        "id": "kFkVTeG0vidX",
        "outputId": "fd1aa692-0f9f-47d1-8633-518a2fbf2b5d"
      },
      "outputs": [
        {
          "output_type": "execute_result",
          "data": {
            "text/plain": [
              "5"
            ]
          },
          "metadata": {},
          "execution_count": 55
        }
      ],
      "source": [
        "x = np.array([6, 2, 0, 3, 0, 0, 5, 7, 0])\n",
        "max(np.take(x, (np.where(x == 0)[0] + 1)[: -1]))\n",
        "\n"
      ]
    },
    {
      "cell_type": "markdown",
      "source": [
        "Пусть заданы два массива x = np.ones(10) и i = np.array([0, 1, 2, 3, 5, 5, 5, 8]). Прибавьте единицу к тем элементам массива x, индексы которых указаны в массиве i. В случае, если некоторый индекс встретился в массиве i несколько раз, прибавьте к соответствующему элементу массива x число вхождений данного индекса в массив i."
      ],
      "metadata": {
        "id": "ZfHfadQi9WmG"
      }
    },
    {
      "cell_type": "code",
      "source": [
        "x = np.ones(10)\n",
        "i = np.array([0, 1, 2, 3, 5, 5, 5, 8])\n",
        "np.add.at(x, i, 1)\n",
        "print(x)"
      ],
      "metadata": {
        "id": "erOTVRd89aNz",
        "colab": {
          "base_uri": "https://localhost:8080/"
        },
        "outputId": "965aad1e-8488-4fcc-ad43-b4de7be4dc9e"
      },
      "execution_count": null,
      "outputs": [
        {
          "output_type": "stream",
          "name": "stdout",
          "text": [
            "[2. 2. 2. 2. 1. 4. 1. 1. 2. 1.]\n"
          ]
        }
      ]
    }
  ],
  "metadata": {
    "colab": {
      "provenance": [],
      "toc_visible": true,
      "authorship_tag": "ABX9TyN8Kh4ZBg4yG3myrp/BwaK1",
      "include_colab_link": true
    },
    "kernelspec": {
      "display_name": "Python 3",
      "name": "python3"
    },
    "language_info": {
      "name": "python"
    }
  },
  "nbformat": 4,
  "nbformat_minor": 0
}